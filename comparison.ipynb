{
 "cells": [
  {
   "cell_type": "code",
   "execution_count": 1,
   "metadata": {},
   "outputs": [],
   "source": [
    "from models import (\n",
    "    train,\n",
    "    iterated_model_unrolled, \n",
    "    iterated_model_while_op, \n",
    "    cnn_model\n",
    ")\n",
    "import tensorflow as tf\n",
    "import numpy as np\n",
    "from functools import partial\n",
    "from utils import Timer\n",
    "\n",
    "tf.logging.set_verbosity(tf.logging.ERROR)\n",
    "\n",
    "%rm -r ./data/"
   ]
  },
  {
   "cell_type": "code",
   "execution_count": 2,
   "metadata": {
    "scrolled": false
   },
   "outputs": [
    {
     "name": "stdout",
     "output_type": "stream",
     "text": [
      "Extracting MNIST-data/train-images-idx3-ubyte.gz\n",
      "Extracting MNIST-data/train-labels-idx1-ubyte.gz\n",
      "Extracting MNIST-data/t10k-images-idx3-ubyte.gz\n",
      "Extracting MNIST-data/t10k-labels-idx1-ubyte.gz\n"
     ]
    }
   ],
   "source": [
    "mnist = tf.contrib.learn.datasets.load_dataset(\"mnist\")\n",
    "train_data = mnist.train.images  # Returns np.array\n",
    "train_labels = np.asarray(mnist.train.labels, dtype=np.int32)\n",
    "eval_data = mnist.test.images  # Returns np.array\n",
    "eval_labels = np.asarray(mnist.test.labels, dtype=np.int32)\n",
    "\n",
    "steps = 1e2\n",
    "\n",
    "def train_on_mnist(*args, **kwargs):\n",
    "    with Timer() as timer:\n",
    "        results = train(eval_data, eval_labels, train_data, train_labels, steps, *args, **kwargs)\n",
    "    return (timer.elapsed_seconds, *results)"
   ]
  },
  {
   "cell_type": "code",
   "execution_count": 3,
   "metadata": {
    "scrolled": false
   },
   "outputs": [
    {
     "data": {
      "text/plain": [
       "(5.181734431000223,\n",
       " <tensorflow.python.estimator.estimator.Estimator at 0x7fcba0672cc0>,\n",
       " {'accuracy': 0.117, 'loss': 2.2781184, 'global_step': 100})"
      ]
     },
     "execution_count": 3,
     "metadata": {},
     "output_type": "execute_result"
    }
   ],
   "source": [
    "cnn_model_results = train_on_mnist(cnn_model)\n",
    "cnn_model_results"
   ]
  },
  {
   "cell_type": "code",
   "execution_count": 4,
   "metadata": {},
   "outputs": [
    {
     "data": {
      "text/plain": [
       "(5.272688242001095,\n",
       " <tensorflow.python.estimator.estimator.Estimator at 0x7fcb99458f28>,\n",
       " {'accuracy': 0.4271, 'loss': 2.0145547, 'global_step': 100})"
      ]
     },
     "execution_count": 4,
     "metadata": {},
     "output_type": "execute_result"
    }
   ],
   "source": [
    "iterated_model_unrolled_results = train_on_mnist(iterated_model_unrolled, params={'iterations': 5, 'channels': 5})\n",
    "iterated_model_unrolled_results"
   ]
  },
  {
   "cell_type": "code",
   "execution_count": 5,
   "metadata": {},
   "outputs": [
    {
     "data": {
      "text/plain": [
       "(7.878105690000666,\n",
       " <tensorflow.python.estimator.estimator.Estimator at 0x7fcb90041518>,\n",
       " {'accuracy': 0.4536, 'loss': 2.028667, 'global_step': 100})"
      ]
     },
     "execution_count": 5,
     "metadata": {},
     "output_type": "execute_result"
    }
   ],
   "source": [
    "iterated_model_while_op_results = train_on_mnist(iterated_model_while_op, params={'iterations': 5, 'channels': 5})\n",
    "iterated_model_while_op_results"
   ]
  },
  {
   "cell_type": "code",
   "execution_count": 6,
   "metadata": {},
   "outputs": [],
   "source": [
    "def iteration_study(iterations):\n",
    "    return train_on_mnist(\n",
    "        iterated_model_unrolled,\n",
    "        f'iterated_model_unrolled_iterations_{iterations}',\n",
    "        {\n",
    "            'iterations': iterations,\n",
    "            'channels': 5\n",
    "        }\n",
    "    )"
   ]
  },
  {
   "cell_type": "code",
   "execution_count": 7,
   "metadata": {
    "scrolled": true
   },
   "outputs": [
    {
     "data": {
      "text/plain": [
       "[(1.9715592189986637,\n",
       "  <tensorflow.python.estimator.estimator.Estimator at 0x7fcb8fa397b8>,\n",
       "  {'accuracy': 0.1753, 'loss': 2.2542458, 'global_step': 100}),\n",
       " (2.6126796480002668,\n",
       "  <tensorflow.python.estimator.estimator.Estimator at 0x7fcb90624470>,\n",
       "  {'accuracy': 0.3519, 'loss': 2.159173, 'global_step': 100}),\n",
       " (3.2279673499997443,\n",
       "  <tensorflow.python.estimator.estimator.Estimator at 0x7fcb9009d630>,\n",
       "  {'accuracy': 0.4362, 'loss': 2.0282006, 'global_step': 100}),\n",
       " (5.237754132000191,\n",
       "  <tensorflow.python.estimator.estimator.Estimator at 0x7fcb8fa39128>,\n",
       "  {'accuracy': 0.35, 'loss': 2.15383, 'global_step': 100}),\n",
       " (8.586066130999825,\n",
       "  <tensorflow.python.estimator.estimator.Estimator at 0x7fcb90624828>,\n",
       "  {'accuracy': 0.1913, 'loss': 2.2482212, 'global_step': 100}),\n",
       " (15.12923201600097,\n",
       "  <tensorflow.python.estimator.estimator.Estimator at 0x7fcb903b0780>,\n",
       "  {'accuracy': 0.1135, 'loss': 2.3025482, 'global_step': 100})]"
      ]
     },
     "execution_count": 7,
     "metadata": {},
     "output_type": "execute_result"
    }
   ],
   "source": [
    "iterations = [\n",
    "    0,  # Trivial case\n",
    "    1,\n",
    "    2,\n",
    "    5,\n",
    "    10,\n",
    "    20\n",
    "]\n",
    "results = list(map(iteration_study, iterations))\n",
    "results"
   ]
  },
  {
   "cell_type": "code",
   "execution_count": 8,
   "metadata": {},
   "outputs": [],
   "source": [
    "def channel_study(channels):\n",
    "    return train_on_mnist(\n",
    "        iterated_model_unrolled,\n",
    "        f'iterated_model_unrolled_channels_{channels}',\n",
    "        {\n",
    "            'iterations': 5,\n",
    "            'channels': channels\n",
    "        }\n",
    "    )"
   ]
  },
  {
   "cell_type": "code",
   "execution_count": 9,
   "metadata": {},
   "outputs": [
    {
     "data": {
      "text/plain": [
       "[(3.059595332000754,\n",
       "  <tensorflow.python.estimator.estimator.Estimator at 0x7fcb8d42da58>,\n",
       "  {'accuracy': 0.1135, 'loss': 2.3025558, 'global_step': 100}),\n",
       " (3.5366202920013166,\n",
       "  <tensorflow.python.estimator.estimator.Estimator at 0x7fcb8fb38668>,\n",
       "  {'accuracy': 0.6413, 'loss': 1.3299961, 'global_step': 100}),\n",
       " (5.249716188000093,\n",
       "  <tensorflow.python.estimator.estimator.Estimator at 0x7fcb9959a0f0>,\n",
       "  {'accuracy': 0.3882, 'loss': 2.1251016, 'global_step': 100}),\n",
       " (7.751644087999011,\n",
       "  <tensorflow.python.estimator.estimator.Estimator at 0x7fcb9012b6a0>,\n",
       "  {'accuracy': 0.4337, 'loss': 2.0537674, 'global_step': 100}),\n",
       " (12.64566842899876,\n",
       "  <tensorflow.python.estimator.estimator.Estimator at 0x7fcb8fe56278>,\n",
       "  {'accuracy': 0.3524, 'loss': 2.2000964, 'global_step': 100})]"
      ]
     },
     "execution_count": 9,
     "metadata": {},
     "output_type": "execute_result"
    }
   ],
   "source": [
    "channels = [\n",
    "    1,\n",
    "    2,\n",
    "    5,\n",
    "    10,\n",
    "    20\n",
    "]\n",
    "results = list(map(channel_study, channels))\n",
    "results"
   ]
  }
 ],
 "metadata": {
  "kernelspec": {
   "display_name": "Python 3",
   "language": "python",
   "name": "python3"
  },
  "language_info": {
   "codemirror_mode": {
    "name": "ipython",
    "version": 3
   },
   "file_extension": ".py",
   "mimetype": "text/x-python",
   "name": "python",
   "nbconvert_exporter": "python",
   "pygments_lexer": "ipython3",
   "version": "3.6.4"
  }
 },
 "nbformat": 4,
 "nbformat_minor": 2
}
