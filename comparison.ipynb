{
 "cells": [
  {
   "cell_type": "markdown",
   "metadata": {},
   "source": [
    "# Iterated Networks\n",
    "\n",
    "Simple, deep networks with few parameters that perform well and train quickly.\n",
    "\n",
    "## Recipe\n",
    "\n",
    " 1. Create a layer that has the same outputs as inputs.\n",
    " 2. Apply that layer over and over, feeding output back into input.\n",
    " 3. Optionally add some skip connections with the first imput.\n",
    "\n",
    "## Results\n",
    "Comparable performance to a simple conv net, but trains faster. Also more iterations -> better results.\n",
    "\n",
    "## TODO\n",
    " \n",
    " 1. What is going on between the iterations?\n",
    " 2. Can we train with just one or a few iterations and then deploy with many?\n",
    " 3. Training method of unrolling loops looks superficially like unrolling through time in an RNN, is there anything to\n",
    "    that?\n",
    " 4. Compare with a more realistic competition, and on a more diverse data set.\n",
    " 5. Fully connected networks?"
   ]
  },
  {
   "cell_type": "code",
   "execution_count": 1,
   "metadata": {},
   "outputs": [],
   "source": [
    "from models import (\n",
    "    train,\n",
    "    iterated_model_unrolled, \n",
    "    iterated_model_while_op, \n",
    "    cnn_model\n",
    ")\n",
    "import tensorflow as tf\n",
    "import numpy as np\n",
    "from functools import partial\n",
    "from utils import Timer\n",
    "\n",
    "tf.logging.set_verbosity(tf.logging.ERROR)\n",
    "\n",
    "%rm -r ./data/"
   ]
  },
  {
   "cell_type": "code",
   "execution_count": 2,
   "metadata": {
    "scrolled": false
   },
   "outputs": [
    {
     "name": "stdout",
     "output_type": "stream",
     "text": [
      "Extracting MNIST-data/train-images-idx3-ubyte.gz\n",
      "Extracting MNIST-data/train-labels-idx1-ubyte.gz\n",
      "Extracting MNIST-data/t10k-images-idx3-ubyte.gz\n",
      "Extracting MNIST-data/t10k-labels-idx1-ubyte.gz\n"
     ]
    }
   ],
   "source": [
    "mnist = tf.contrib.learn.datasets.load_dataset(\"mnist\")\n",
    "train_data = mnist.train.images  # Returns np.array\n",
    "train_labels = np.asarray(mnist.train.labels, dtype=np.int32)\n",
    "eval_data = mnist.test.images  # Returns np.array\n",
    "eval_labels = np.asarray(mnist.test.labels, dtype=np.int32)\n",
    "\n",
    "steps = 20e3\n",
    "\n",
    "def train_on_mnist(*args, **kwargs):\n",
    "    with Timer() as timer:\n",
    "        results = train(eval_data, eval_labels, train_data, train_labels, steps, *args, **kwargs)\n",
    "    return (timer.elapsed_seconds, *results)"
   ]
  },
  {
   "cell_type": "code",
   "execution_count": 3,
   "metadata": {
    "scrolled": false
   },
   "outputs": [
    {
     "data": {
      "text/plain": [
       "(650.150568436,\n",
       " <tensorflow.python.estimator.estimator.Estimator at 0x7f8b36973f60>,\n",
       " {'accuracy': 0.9677, 'loss': 0.104079105, 'global_step': 20000})"
      ]
     },
     "execution_count": 3,
     "metadata": {},
     "output_type": "execute_result"
    }
   ],
   "source": [
    "cnn_model_results = train_on_mnist(cnn_model)\n",
    "cnn_model_results"
   ]
  },
  {
   "cell_type": "code",
   "execution_count": 4,
   "metadata": {},
   "outputs": [
    {
     "data": {
      "text/plain": [
       "(824.6978443209991,\n",
       " <tensorflow.python.estimator.estimator.Estimator at 0x7f8b36973dd8>,\n",
       " {'accuracy': 0.9833, 'loss': 0.056544002, 'global_step': 20000})"
      ]
     },
     "execution_count": 4,
     "metadata": {},
     "output_type": "execute_result"
    }
   ],
   "source": [
    "iterated_model_unrolled_results = train_on_mnist(iterated_model_unrolled, params={'iterations': 5, 'channels': 5})\n",
    "iterated_model_unrolled_results"
   ]
  },
  {
   "cell_type": "code",
   "execution_count": 5,
   "metadata": {},
   "outputs": [
    {
     "data": {
      "text/plain": [
       "(1440.6643616149995,\n",
       " <tensorflow.python.estimator.estimator.Estimator at 0x7f8b2fb11518>,\n",
       " {'accuracy': 0.985, 'loss': 0.050225332, 'global_step': 20000})"
      ]
     },
     "execution_count": 5,
     "metadata": {},
     "output_type": "execute_result"
    }
   ],
   "source": [
    "iterated_model_while_op_results = train_on_mnist(iterated_model_while_op, params={'iterations': 5, 'channels': 5})\n",
    "iterated_model_while_op_results"
   ]
  },
  {
   "cell_type": "code",
   "execution_count": 6,
   "metadata": {},
   "outputs": [],
   "source": [
    "def iteration_study(iterations):\n",
    "    return train_on_mnist(\n",
    "        iterated_model_unrolled,\n",
    "        f'iterated_model_unrolled_iterations_{iterations}',\n",
    "        {\n",
    "            'iterations': iterations,\n",
    "            'channels': 5\n",
    "        }\n",
    "    )"
   ]
  },
  {
   "cell_type": "code",
   "execution_count": 7,
   "metadata": {
    "scrolled": true
   },
   "outputs": [
    {
     "data": {
      "text/plain": [
       "[(235.80641283800105,\n",
       "  <tensorflow.python.estimator.estimator.Estimator at 0x7f8b2548d780>,\n",
       "  {'accuracy': 0.938, 'loss': 0.21855783, 'global_step': 20000}),\n",
       " (355.8324502329997,\n",
       "  <tensorflow.python.estimator.estimator.Estimator at 0x7f8b257bdbe0>,\n",
       "  {'accuracy': 0.9721, 'loss': 0.09564532, 'global_step': 20000}),\n",
       " (472.53805637500227,\n",
       "  <tensorflow.python.estimator.estimator.Estimator at 0x7f8b2f8c8e80>,\n",
       "  {'accuracy': 0.9791, 'loss': 0.06557379, 'global_step': 20000}),\n",
       " (824.4319346169978,\n",
       "  <tensorflow.python.estimator.estimator.Estimator at 0x7f8b3691fe10>,\n",
       "  {'accuracy': 0.9815, 'loss': 0.056496806, 'global_step': 20000}),\n",
       " (1414.1717638779992,\n",
       "  <tensorflow.python.estimator.estimator.Estimator at 0x7f8b2f744cf8>,\n",
       "  {'accuracy': 0.986, 'loss': 0.04564997, 'global_step': 20000}),\n",
       " (2591.5159817189997,\n",
       "  <tensorflow.python.estimator.estimator.Estimator at 0x7f8b2f76e358>,\n",
       "  {'accuracy': 0.9855, 'loss': 0.05003326, 'global_step': 20000})]"
      ]
     },
     "execution_count": 7,
     "metadata": {},
     "output_type": "execute_result"
    }
   ],
   "source": [
    "iterations = [\n",
    "    0,  # Trivial case\n",
    "    1,\n",
    "    2,\n",
    "    5,\n",
    "    10,\n",
    "    20\n",
    "]\n",
    "iteration_study_results = list(map(iteration_study, iterations))\n",
    "iteration_study_results"
   ]
  },
  {
   "cell_type": "code",
   "execution_count": 8,
   "metadata": {},
   "outputs": [],
   "source": [
    "def channel_study(channels):\n",
    "    return train_on_mnist(\n",
    "        iterated_model_unrolled,\n",
    "        f'iterated_model_unrolled_channels_{channels}',\n",
    "        {\n",
    "            'iterations': 5,\n",
    "            'channels': channels\n",
    "        }\n",
    "    )"
   ]
  },
  {
   "cell_type": "code",
   "execution_count": 9,
   "metadata": {},
   "outputs": [
    {
     "data": {
      "text/plain": [
       "[(403.0317638680026,\n",
       "  <tensorflow.python.estimator.estimator.Estimator at 0x7f8b249ca6d8>,\n",
       "  {'accuracy': 0.9749, 'loss': 0.08136818, 'global_step': 20000}),\n",
       " (495.5032902210005,\n",
       "  <tensorflow.python.estimator.estimator.Estimator at 0x7f8b2522fc50>,\n",
       "  {'accuracy': 0.9798, 'loss': 0.067920916, 'global_step': 20000}),\n",
       " (824.7462080999976,\n",
       "  <tensorflow.python.estimator.estimator.Estimator at 0x7f8b2522fef0>,\n",
       "  {'accuracy': 0.9835, 'loss': 0.051396906, 'global_step': 20000}),\n",
       " (1259.4520230920025,\n",
       "  <tensorflow.python.estimator.estimator.Estimator at 0x7f8b257adf98>,\n",
       "  {'accuracy': 0.9858, 'loss': 0.053202346, 'global_step': 20000}),\n",
       " (2182.091704798,\n",
       "  <tensorflow.python.estimator.estimator.Estimator at 0x7f8b25295470>,\n",
       "  {'accuracy': 0.985, 'loss': 0.05615745, 'global_step': 20000})]"
      ]
     },
     "execution_count": 9,
     "metadata": {},
     "output_type": "execute_result"
    }
   ],
   "source": [
    "channels = [\n",
    "    1,\n",
    "    2,\n",
    "    5,\n",
    "    10,\n",
    "    20\n",
    "]\n",
    "channel_study_results = list(map(channel_study, channels))\n",
    "channel_study_results"
   ]
  }
 ],
 "metadata": {
  "kernelspec": {
   "display_name": "Python 3",
   "language": "python",
   "name": "python3"
  },
  "language_info": {
   "codemirror_mode": {
    "name": "ipython",
    "version": 3
   },
   "file_extension": ".py",
   "mimetype": "text/x-python",
   "name": "python",
   "nbconvert_exporter": "python",
   "pygments_lexer": "ipython3",
   "version": "3.6.4"
  }
 },
 "nbformat": 4,
 "nbformat_minor": 2
}
