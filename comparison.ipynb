{
 "cells": [
  {
   "cell_type": "code",
   "execution_count": 1,
   "metadata": {},
   "outputs": [],
   "source": [
    "from main import (\n",
    "    train,\n",
    "    iterated_model_unrolled, \n",
    "    iterated_model_while_op, \n",
    "    cnn_model\n",
    ")\n",
    "import tensorflow as tf\n",
    "import numpy as np\n",
    "from functools import partial\n",
    "from utils import Timer\n",
    "\n",
    "tf.logging.set_verbosity(tf.logging.ERROR)\n",
    "\n",
    "%rm -r ./data/"
   ]
  },
  {
   "cell_type": "code",
   "execution_count": 2,
   "metadata": {
    "scrolled": false
   },
   "outputs": [
    {
     "name": "stdout",
     "output_type": "stream",
     "text": [
      "Extracting MNIST-data/train-images-idx3-ubyte.gz\n",
      "Extracting MNIST-data/train-labels-idx1-ubyte.gz\n",
      "Extracting MNIST-data/t10k-images-idx3-ubyte.gz\n",
      "Extracting MNIST-data/t10k-labels-idx1-ubyte.gz\n"
     ]
    }
   ],
   "source": [
    "mnist = tf.contrib.learn.datasets.load_dataset(\"mnist\")\n",
    "train_data = mnist.train.images  # Returns np.array\n",
    "train_labels = np.asarray(mnist.train.labels, dtype=np.int32)\n",
    "eval_data = mnist.test.images  # Returns np.array\n",
    "eval_labels = np.asarray(mnist.test.labels, dtype=np.int32)\n",
    "\n",
    "steps = 1e2\n",
    "\n",
    "def train_on_mnist(*args, **kwargs):\n",
    "    with Timer() as timer:\n",
    "        results = train(eval_data, eval_labels, train_data, train_labels, steps, *args, **kwargs)\n",
    "    return (timer.elapsed_seconds, *results)"
   ]
  },
  {
   "cell_type": "code",
   "execution_count": 3,
   "metadata": {
    "scrolled": false
   },
   "outputs": [
    {
     "data": {
      "text/plain": [
       "(5.125583912000366,\n",
       " <tensorflow.python.estimator.estimator.Estimator at 0x7f8a0bfb4d68>,\n",
       " {'accuracy': 0.1161, 'loss': 2.2864428, 'global_step': 100})"
      ]
     },
     "execution_count": 3,
     "metadata": {},
     "output_type": "execute_result"
    }
   ],
   "source": [
    "cnn_model_results = train_on_mnist(cnn_model)\n",
    "cnn_model_results"
   ]
  },
  {
   "cell_type": "code",
   "execution_count": 4,
   "metadata": {},
   "outputs": [
    {
     "data": {
      "text/plain": [
       "(5.5856261890003225,\n",
       " <tensorflow.python.estimator.estimator.Estimator at 0x7f8a04d99fd0>,\n",
       " {'accuracy': 0.6715, 'loss': 1.4774971, 'global_step': 100})"
      ]
     },
     "execution_count": 4,
     "metadata": {},
     "output_type": "execute_result"
    }
   ],
   "source": [
    "iterated_model_unrolled_results = train_on_mnist(iterated_model_unrolled, params={'iterations': 5, 'channels': 5})\n",
    "iterated_model_unrolled_results"
   ]
  },
  {
   "cell_type": "code",
   "execution_count": 5,
   "metadata": {},
   "outputs": [
    {
     "data": {
      "text/plain": [
       "(8.68359091000093,\n",
       " <tensorflow.python.estimator.estimator.Estimator at 0x7f8a04d99828>,\n",
       " {'accuracy': 0.4566, 'loss': 1.9786068, 'global_step': 100})"
      ]
     },
     "execution_count": 5,
     "metadata": {},
     "output_type": "execute_result"
    }
   ],
   "source": [
    "iterated_model_while_op_results = train_on_mnist(iterated_model_while_op, params={'iterations': 5, 'channels': 5})\n",
    "iterated_model_while_op_results"
   ]
  },
  {
   "cell_type": "code",
   "execution_count": 6,
   "metadata": {},
   "outputs": [],
   "source": [
    "def iteration_study(iterations):\n",
    "    return train_on_mnist(\n",
    "        iterated_model_unrolled,\n",
    "        f'iterated_model_unrolled_iterations_{iterations}',\n",
    "        {\n",
    "            'iterations': 10,\n",
    "            'channels': channels\n",
    "        }\n",
    "    )"
   ]
  },
  {
   "cell_type": "code",
   "execution_count": 7,
   "metadata": {
    "scrolled": true
   },
   "outputs": [
    {
     "ename": "NameError",
     "evalue": "name 'channels' is not defined",
     "output_type": "error",
     "traceback": [
      "\u001b[0;31m---------------------------------------------------------------------------\u001b[0m",
      "\u001b[0;31mNameError\u001b[0m                                 Traceback (most recent call last)",
      "\u001b[0;32m<ipython-input-7-980c4a7261b2>\u001b[0m in \u001b[0;36m<module>\u001b[0;34m()\u001b[0m\n\u001b[1;32m      7\u001b[0m     \u001b[0;36m20\u001b[0m\u001b[0;34m\u001b[0m\u001b[0m\n\u001b[1;32m      8\u001b[0m ]\n\u001b[0;32m----> 9\u001b[0;31m \u001b[0mresults\u001b[0m \u001b[0;34m=\u001b[0m \u001b[0mlist\u001b[0m\u001b[0;34m(\u001b[0m\u001b[0mmap\u001b[0m\u001b[0;34m(\u001b[0m\u001b[0miteration_study\u001b[0m\u001b[0;34m,\u001b[0m \u001b[0miterations\u001b[0m\u001b[0;34m)\u001b[0m\u001b[0;34m)\u001b[0m\u001b[0;34m\u001b[0m\u001b[0m\n\u001b[0m\u001b[1;32m     10\u001b[0m \u001b[0mresults\u001b[0m\u001b[0;34m\u001b[0m\u001b[0m\n",
      "\u001b[0;32m<ipython-input-6-a468d43108b8>\u001b[0m in \u001b[0;36miteration_study\u001b[0;34m(iterations)\u001b[0m\n\u001b[1;32m      5\u001b[0m         {\n\u001b[1;32m      6\u001b[0m             \u001b[0;34m'iterations'\u001b[0m\u001b[0;34m:\u001b[0m \u001b[0;36m10\u001b[0m\u001b[0;34m,\u001b[0m\u001b[0;34m\u001b[0m\u001b[0m\n\u001b[0;32m----> 7\u001b[0;31m             \u001b[0;34m'channels'\u001b[0m\u001b[0;34m:\u001b[0m \u001b[0mchannels\u001b[0m\u001b[0;34m\u001b[0m\u001b[0m\n\u001b[0m\u001b[1;32m      8\u001b[0m         }\n\u001b[1;32m      9\u001b[0m     )\n",
      "\u001b[0;31mNameError\u001b[0m: name 'channels' is not defined"
     ]
    }
   ],
   "source": [
    "iterations = [\n",
    "    0,  # Trivial case\n",
    "    1,\n",
    "    2,\n",
    "    5,\n",
    "    10,\n",
    "    20\n",
    "]\n",
    "results = list(map(iteration_study, iterations))\n",
    "results"
   ]
  },
  {
   "cell_type": "code",
   "execution_count": null,
   "metadata": {},
   "outputs": [],
   "source": [
    "def channel_study(channels):\n",
    "    return train_on_mnist(\n",
    "        iterated_model_unrolled,\n",
    "        f'iterated_model_unrolled_channels_{channels}',\n",
    "        {\n",
    "            'iterations': 10,\n",
    "            'channels': channels\n",
    "        }\n",
    "    )"
   ]
  },
  {
   "cell_type": "code",
   "execution_count": null,
   "metadata": {},
   "outputs": [],
   "source": [
    "channels = [\n",
    "    1,\n",
    "    2,\n",
    "    5,\n",
    "    10,\n",
    "    20\n",
    "]\n",
    "results = list(map(channel_study, channels))\n",
    "results"
   ]
  }
 ],
 "metadata": {
  "kernelspec": {
   "display_name": "Python 3",
   "language": "python",
   "name": "python3"
  },
  "language_info": {
   "codemirror_mode": {
    "name": "ipython",
    "version": 3
   },
   "file_extension": ".py",
   "mimetype": "text/x-python",
   "name": "python",
   "nbconvert_exporter": "python",
   "pygments_lexer": "ipython3",
   "version": "3.6.4"
  }
 },
 "nbformat": 4,
 "nbformat_minor": 2
}
